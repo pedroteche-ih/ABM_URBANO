{
 "cells": [
  {
   "cell_type": "markdown",
   "metadata": {},
   "source": [
    "# ABM para Investigação de Dinâmicas Populacionais Urbanas\n",
    "\n",
    "O objetivo de um ABM é buscar uma transição de fase definida por um comportamento emergente no espaço dos parâmetros do modelo.\n",
    "\n",
    "O modelo original tinha 2 tipos de agente\n",
    "- **Povo de Rua** (a) com um parâmetro de threshold que define uma regra de mudança;\n",
    "- **Domicilios** (b) com um parâmetro de threshold que define uma regra de mudança;\n",
    "\n",
    "Esses agentes ocupavam uma grade retangular MxN que continha apenas um atributo: a contagem de agentes do tipo (b) em cada célula. Para os agentes (a) a regra threshold forçava uma mudança (aleatória na grade) quando o número de agentes em sua célula do tipo (b) caia abaixo de um certo valor. Já os agentes do tipo (b) tinham uma regra de threshold que forçava uma mudança (aleatória na grade) quando o número de agente em sua célula crescia demais.\n",
    "\n",
    "Os threshold eram definidos através de variáveis aleatórias, amostrada na criação de cada instância de um agente. O parâmetro deste modelo era justamente a relação entre Densidade de Agentes (tamanho da grade por número de instâncias de agentes), e os parâmetros das distribuições de threshold.\n",
    "\n",
    "Falta um atributo de VALOR que seja composto por diversos outros atributos da grade;\n",
    "Falta um agente de Segurança;\n",
    "Falta atributos de Infraestrutura;\n",
    "\n",
    "## FUNÇÃO VALOR\n",
    "Consegue transformar uma célula da grade em valor para cada um dos agentes.\n",
    "\n",
    "## AGENTE SEGURANÇA (c)\n",
    "Tem um threshold sobre o valor(a * SA, b * SB) - se a soma deles cai para baixo de um threshold, ela se muda.\n",
    "### Alteração do valor(a)\n",
    "Deve dificultar a presença do agente tipo (a) - reduzindo o valor(a) de uma célular.\n",
    "\n",
    "## FUNÇÃO INFRAESTUTURA\n",
    "Uma função que atribui a cada célula um valor de infraestrutura.\n",
    "### Alocação de Infraestrutura\n",
    "Inicialmente faremos uma alocação usando ruído de Perlin. A cada etapa, o valor de N regiões (N sendo um parametro do modelo, chamado Orçamento) é incrementado. A função de ranqueamento tem que penalizar (temos?) celulas de alta infrasestrutura existente e beneficiar celulas de alta população.\n",
    "#### SP Capital\n",
    "A alocação de recursos é limitada pelos limites geopolíticos da cidade.\n",
    "### Deterioração da Infraestrutura\n",
    "A cada etapa da simulação, cada célula tem uma chance de perder N pontos de infraestrutura.\n",
    "\n",
    "## AGENTE IGREJA (d)\n",
    "Tem um threshold sobre o valor(a * IA, b * IB) - se a soma deles cai para baixo de um threshold, ela se muda.\n",
    "### Alteração do valor(a)\n",
    "A Igreja busca construir um equilibrio da população do agente (a) - ela altera o valor da celula para agentes (a) nos dois sentidos: se o valor está abaixo de um threshold, ela o aumenta, se ele esta acima, ela o reduz.\n",
    "\n",
    "# Framework de Desenvolvimento\n",
    "\n",
    "- Começar implantando infraestrutura.\n",
    "- Adicionar agentes (c) e (d)\n",
    " "
   ]
  },
  {
   "cell_type": "markdown",
   "metadata": {},
   "source": []
  },
  {
   "cell_type": "code",
   "execution_count": 16,
   "metadata": {},
   "outputs": [],
   "source": [
    "import random\n",
    "\n",
    "class Grid:\n",
    "    '''\n",
    "    '''\n",
    "    def __init__(self, x, y):\n",
    "        '''\n",
    "\n",
    "            loc_dict Dict: dicionário para conter atributos do modelo e agentes.\n",
    "            loc_pairs List: lista com pares de coordenadas (usada para amostragem aleatória)\n",
    "        '''\n",
    "        self.x_size = x\n",
    "        self.y_size = y\n",
    "        self.loc_pairs = [(i, j) for i in range(x) for j in range(y)]\n",
    "        self.agent_set = set()\n",
    "        self.loc_dict = dict()\n",
    "        for i in range(x):\n",
    "            for j in range(y):\n",
    "                self.loc_dict[(i,j)] = dict()\n",
    "                self.loc_dict[(i,j)]['infrastructure'] = 0\n",
    "                self.loc_dict[(i,j)]['agent_present'] = set()\n",
    "\n",
    "    def return_coord_pair(self):\n",
    "        '''\n",
    "        Retorna um par de coordenadas aleatoriamente.\n",
    "        '''\n",
    "        return random.choice(self.loc_pairs)\n",
    "\n",
    "    def add_agent_position(self, pos_tuple, agent):\n",
    "        '''\n",
    "        Adiciona um agente na posição x, y = pos_tuple.\n",
    "        '''\n",
    "        self.loc_dict[(pos_tuple[0], pos_tuple[1])]['agent_present'].add(agent)\n",
    "\n",
    "    def change_agent_position(self, agent, new_pos):\n",
    "        '''\n",
    "        '''\n",
    "        self.loc_dict[(agent.x_pos, agent.y_pos)]['agent_present'].remove(agent)\n",
    "        self.loc_dict[(new_pos[0], new_pos[1])]['agent_present'].add(agent)\n",
    "\n",
    "class Agent:\n",
    "    '''\n",
    "    Classe representando um Agente genérico\n",
    "\n",
    "    '''\n",
    "    def __init__(self, grid):\n",
    "        '''\n",
    "        Parameters:\n",
    "            grid Grid: objeto Grid onde o agente residirá\n",
    "        Attributes:\n",
    "            pos Tuple: tuple com posição x, y do agente no Grid\n",
    "        '''\n",
    "        self.x_pos, self.y_pos = grid.return_coord_pair()\n",
    "        self.grid = grid\n",
    "        self.grid.add_agent_position((self.x_pos, self.y_pos), self)\n",
    "\n",
    "    def move(self):\n",
    "        new_pos = self.grid.return_coord_pair()\n",
    "        self.grid.change_agent_position(self, new_pos)\n",
    "        self.x_pos, self.y_pos = new_pos\n",
    "\n",
    "class AgentA(Agent):\n",
    "    '''\n",
    "    Classe representando o Povo de Rua\n",
    "    '''\n",
    "    def __init__(self, grid, thresh_dict):\n",
    "        super().__init__(grid)\n",
    "        self.thresh_dict = thresh_dict\n",
    "\n",
    "    def regra_movimento(self):\n",
    "        '''\n",
    "        Avalia atributos da Grid para determinar se agente se muda ou não\n",
    "        '''\n",
    "        condicao = True\n",
    "        for threshold in self.thresh_dict.keys():\n",
    "            if self.thresh_dict[threshold] < self.grid.loc_dict[(self.x_pos, self.y_pos)][threshold]:\n",
    "                condicao = True\n",
    "                break\n",
    "        if condicao:\n",
    "            self.move()"
   ]
  },
  {
   "cell_type": "code",
   "execution_count": 24,
   "metadata": {},
   "outputs": [],
   "source": [
    "grade_teste = Grid(2, 2)\n",
    "for i in range(100):\n",
    "    Agent(grade_teste)"
   ]
  },
  {
   "cell_type": "code",
   "execution_count": 31,
   "metadata": {},
   "outputs": [
    {
     "data": {
      "text/plain": [
       "30"
      ]
     },
     "execution_count": 31,
     "metadata": {},
     "output_type": "execute_result"
    }
   ],
   "source": [
    "len(grade_teste.loc_dict[1,1]['agent_present'])"
   ]
  },
  {
   "cell_type": "code",
   "execution_count": 11,
   "metadata": {},
   "outputs": [],
   "source": [
    "x = 2\n",
    "y = 2\n",
    "loc_dict = dict()"
   ]
  },
  {
   "cell_type": "code",
   "execution_count": 12,
   "metadata": {},
   "outputs": [],
   "source": [
    "for i in range(x):\n",
    "    for j in range(y):\n",
    "        loc_dict[(i,j)] = dict()\n",
    "        loc_dict[(i,j)]['infra'] = 0\n",
    "        loc_dict[(i,j)]['agent_set'] = set()"
   ]
  },
  {
   "cell_type": "code",
   "execution_count": 15,
   "metadata": {},
   "outputs": [
    {
     "data": {
      "text/plain": [
       "{(0, 0): {'infra': 0, 'agent_set': set()},\n",
       " (0, 1): {'infra': 0, 'agent_set': set()},\n",
       " (1, 0): {'infra': 0, 'agent_set': set()},\n",
       " (1, 1): {'infra': 0, 'agent_set': set()}}"
      ]
     },
     "execution_count": 15,
     "metadata": {},
     "output_type": "execute_result"
    }
   ],
   "source": [
    "loc_dict"
   ]
  },
  {
   "cell_type": "markdown",
   "metadata": {},
   "source": [
    "## Usando MESA"
   ]
  },
  {
   "cell_type": "code",
   "execution_count": 166,
   "metadata": {},
   "outputs": [],
   "source": [
    "import mesa, random\n",
    "import numpy as np\n",
    "import matplotlib.pyplot as plt\n",
    "from scipy.stats import pareto, norm, lognorm\n",
    "from perlin_noise import PerlinNoise"
   ]
  },
  {
   "cell_type": "code",
   "execution_count": 167,
   "metadata": {},
   "outputs": [],
   "source": [
    "def perlin_grid(height, width):\n",
    "    noise1 = PerlinNoise(octaves=3)\n",
    "    noise2 = PerlinNoise(octaves=6)\n",
    "    noise3 = PerlinNoise(octaves=12)\n",
    "    noise4 = PerlinNoise(octaves=24)\n",
    "\n",
    "    xpix, ypix = height, width\n",
    "    pic = []\n",
    "    for i in range(xpix):\n",
    "        row = []\n",
    "        for j in range(ypix):\n",
    "            noise_val = noise1([i/xpix, j/ypix])\n",
    "            noise_val += 0.5 * noise2([i/xpix, j/ypix])\n",
    "            noise_val += 0.25 * noise3([i/xpix, j/ypix])\n",
    "            noise_val += 0.125 * noise4([i/xpix, j/ypix])\n",
    "\n",
    "            row.append(noise_val)\n",
    "        pic.append(row)\n",
    "    pic_array = np.array(pic)\n",
    "    pic_array = pic_array - np.min(pic_array)\n",
    "    pic_array = pic_array/np.max(pic_array)\n",
    "    return pic_array"
   ]
  },
  {
   "cell_type": "code",
   "execution_count": 193,
   "metadata": {},
   "outputs": [],
   "source": [
    "class PopRua(mesa.Agent):\n",
    "    def __init__(self, unique_id, model, parametros_agente):\n",
    "        '''\n",
    "        parametros_agente: tuple com os parametros de cada tipo de agente diferente\n",
    "        '''\n",
    "        super().__init__(unique_id, model)\n",
    "        self.threshold = np.max([0,norm.rvs(parametros_agente[0], parametros_agente[1])])\n",
    "        self.peso_seg = parametros_agente[2]\n",
    "\n",
    "    def value_function(self):\n",
    "        value = self.model.location.param_dict[self.pos[0]][self.pos[1]]['value']\n",
    "        infra = self.model.location.param_dict[self.pos[0]][self.pos[1]]['infrastructure']\n",
    "        pop_seg = 0\n",
    "        for neighbor in self.model.grid.get_neighbors(self.pos, moore = True, include_center = True):\n",
    "            if isinstance(neighbor, PopSeg):\n",
    "                pop_seg += 1\n",
    "        return value + PESO_INFRA * infra - self.peso_seg * pop_seg/9\n",
    "\n",
    "    def move(self):\n",
    "        new_position_x = random.randint(0, self.model.grid.height - 1)\n",
    "        new_position_y = random.randint(0, self.model.grid.width - 1)\n",
    "        new_position = (new_position_x, new_position_y)\n",
    "        self.model.grid.move_agent(self, new_position)\n",
    "\n",
    "    def step(self):\n",
    "        if self.value_function() < self.threshold:\n",
    "            self.move()\n",
    "\n",
    "class PopCasa(mesa.Agent):\n",
    "    def __init__(self, unique_id, model, parametros_agente):\n",
    "        '''\n",
    "        parametros_agente: tuple com os parametros de cada tipo de agente diferente\n",
    "        '''\n",
    "        super().__init__(unique_id, model)\n",
    "        self.threshold = pareto.rvs(b=parametros_agente[0]) * parametros_agente[0]\n",
    "\n",
    "    def value_function(self):\n",
    "        value = self.model.location.param_dict[self.pos[0]][self.pos[1]]['value']\n",
    "        infra = self.model.location.param_dict[self.pos[0]][self.pos[1]]['infrastructure']\n",
    "        return value - PESO_INFRA * infra\n",
    "\n",
    "    def move(self):\n",
    "        new_position_x = random.randint(0, self.model.grid.height - 1)\n",
    "        new_position_y = random.randint(0, self.model.grid.width - 1)\n",
    "        new_position = (new_position_x, new_position_y)\n",
    "        self.model.grid.move_agent(self, new_position)\n",
    "\n",
    "    def step(self):\n",
    "        if self.value_function() > self.threshold:\n",
    "            self.move()\n",
    "\n",
    "class PopSeg(mesa.Agent):\n",
    "    def __init__(self, unique_id, model, parametros_agente):\n",
    "        '''\n",
    "        parametros_agente: tuple com os parametros de cada tipo de agente diferente\n",
    "        '''\n",
    "        super().__init__(unique_id, model)\n",
    "        self.peso_dom = parametros_agente[0]\n",
    "        self.peso_rua = parametros_agente[1]\n",
    "        self.threshold = parametros_agente[2]\n",
    "\n",
    "    def move(self):\n",
    "        new_position_x = random.randint(0, self.model.grid.height - 1)\n",
    "        new_position_y = random.randint(0, self.model.grid.width - 1)\n",
    "        new_position = (new_position_x, new_position_y)\n",
    "        self.model.grid.move_agent(self, new_position)\n",
    "\n",
    "    def value_function(self):\n",
    "        pop_rua = 0\n",
    "        pop_dom = 0\n",
    "        for neighbor in self.model.grid.get_neighbors(self.pos, moore = True, include_center = True):\n",
    "            if isinstance(neighbor, PopCasa):\n",
    "                pop_dom += 1\n",
    "            elif isinstance(neighbor, PopRua):\n",
    "                pop_rua += 1\n",
    "        return self.peso_dom * pop_dom/9 + self.peso_rua * pop_rua/9\n",
    "\n",
    "    def step(self):\n",
    "        if self.value_function() < self.threshold:\n",
    "            self.move()\n",
    "\n",
    "class Locacao:\n",
    "    '''\n",
    "    '''\n",
    "    def __init__(self, height, width, model):\n",
    "        param_dict = dict()\n",
    "        self.model = model\n",
    "        \n",
    "        for i in range(height):\n",
    "            param_dict[i] = dict()\n",
    "            for j in range(width):\n",
    "                param_dict[i][j] = dict()\n",
    "        self.param_dict = param_dict\n",
    "        self.initialize_infrastructure(height, width)\n",
    "\n",
    "    def update_value(self):\n",
    "        '''\n",
    "        O valor de uma célula da grade é a média do número de pessoas na vizinhança de Moore da celula.\n",
    "        '''\n",
    "        for cell in self.model.grid.coord_iter():\n",
    "            viz = self.model.grid.get_neighborhood(\n",
    "                (cell[1], cell[2]), moore=True, include_center=True\n",
    "            )\n",
    "            pessoas = []\n",
    "            for cell_v in viz:\n",
    "                pessoas.extend(self.model.grid.get_cell_list_contents(cell_v))\n",
    "\n",
    "            casas = [pessoa for pessoa in pessoas if isinstance(pessoa, PopCasa)]\n",
    "            poprua = [pessoa for pessoa in pessoas if isinstance(pessoa, PopRua)]\n",
    "            num_ocup = len(casas) / 9 - len(poprua) / 9 \n",
    "            self.param_dict[cell[1]][cell[2]]['value'] = num_ocup\n",
    "\n",
    "    def get_value(self, x, y):\n",
    "        return self.param_dict[x][y]['value']\n",
    "\n",
    "    def initialize_infrastructure(self, height, width):\n",
    "        perlin_noise = perlin_grid(height, width)\n",
    "        for i in range(height):\n",
    "            for j in range(width):\n",
    "                self.param_dict[i][j]['infrastructure'] = perlin_noise[i,j]\n",
    "\n",
    "    def update_infrastructure(self):\n",
    "        '''\n",
    "        Infraestrutura degrada ao longo do tempo.\n",
    "        '''\n",
    "        \n",
    "        top_value = np.max(self.get_value_matrix())\n",
    "        data_list = []\n",
    "        for cell in self.model.grid.coord_iter():\n",
    "            infra = self.param_dict[cell[1]][cell[2]]['infrastructure']\n",
    "            value = self.param_dict[cell[1]][cell[2]]['value']\n",
    "            data_list.append((infra, value, cell[1], cell[2]))\n",
    "            if infra > MIN_INFRASTRUCTURE:\n",
    "                if random.random() < P_DEGRADACAO:\n",
    "                    self.param_dict[cell[1]][cell[2]]['infrastructure'] *= (1-TX_DEGRADACAO)\n",
    "                    infra = self.param_dict[cell[1]][cell[2]]['infrastructure']\n",
    "        bottom_infra = sorted(data_list, key = lambda x: x[0])[:N_BOTTOM]\n",
    "        top_value = sorted(data_list, key = lambda x: x[1], reverse = True)[:N_TOP]\n",
    "        improve_list = top_value + bottom_infra\n",
    "        for cell in improve_list:\n",
    "            melhora = lognorm.rvs(s = TX_MELHORA_SD, scale = TX_MELHORA_MU)\n",
    "            self.param_dict[cell[2]][cell[3]]['infrastructure'] = np.min([self.param_dict[cell[2]][cell[3]]['infrastructure'] + melhora, 1])\n",
    "\n",
    "\n",
    "    def get_infra_matrix(self):\n",
    "        infra_list = []\n",
    "        for i in self.param_dict.keys():\n",
    "            row = []\n",
    "            for j in self.param_dict[i].keys():\n",
    "                row.append(self.param_dict[i][j]['infrastructure'])\n",
    "            infra_list.append(row)\n",
    "        return np.array(infra_list)\n",
    "\n",
    "    def get_value_matrix(self):\n",
    "        value_list = []\n",
    "        for i in self.param_dict.keys():\n",
    "            row = []\n",
    "            for j in self.param_dict[i].keys():\n",
    "                row.append(self.param_dict[i][j]['value'])\n",
    "            value_list.append(row)\n",
    "        return np.array(value_list)\n",
    "\n",
    "    def update(self, it):\n",
    "        self.update_value()\n",
    "        if it % TX_INVEST == 0 and it > BURNIN_INFRA:\n",
    "            self.update_infrastructure()\n",
    "\n",
    "class ModeloUrbano(mesa.Model):\n",
    "    def __init__(self, dens, height, width, dict_agent):\n",
    "        self.grid = mesa.space.MultiGrid(height, width, True)\n",
    "        self.schedule = mesa.time.RandomActivation(self)\n",
    "        self.num_agents = int(dens * height * width)\n",
    "        self.dict_agent = dict_agent\n",
    "        self.iter = 0\n",
    "        # Create agents\n",
    "        id_u = 0\n",
    "        for tipo_agente in dict_agent.keys():\n",
    "            num_agentes_tipo = self.num_agents * dict_agent[tipo_agente]['prop']\n",
    "            for i in range(int(num_agentes_tipo)):\n",
    "                a = tipo_agente(id_u, self, dict_agent[tipo_agente]['param'])\n",
    "                x = self.random.randrange(self.grid.height)\n",
    "                y = self.random.randrange(self.grid.width)\n",
    "                self.grid.place_agent(a, (x, y))\n",
    "                self.schedule.add(a)\n",
    "                id_u += 1\n",
    "\n",
    "        self.location = Locacao(height, width, self)\n",
    "\n",
    "    def step(self):\n",
    "        \"\"\"Advance the model by one step.\"\"\"\n",
    "        self.iter += 1\n",
    "        self.location.update(self.iter)\n",
    "        self.schedule.step()\n",
    "\n",
    "    def return_agent_matrix(self):\n",
    "        array_dict = dict()\n",
    "        for tipo_agent in self.dict_agent.keys():\n",
    "            array_dict[tipo_agent] = np.zeros((self.grid.height, self.grid.width))\n",
    "        for agents, x, y in self.grid.coord_iter():\n",
    "            for agent in agents:\n",
    "                for tipo_agent in self.dict_agent.keys():\n",
    "                    if isinstance(agent, tipo_agent):\n",
    "                        array_dict[tipo_agent][x,y] += 1\n",
    "        return array_dict\n",
    "\n",
    "    def return_agent_thresh(self):\n",
    "        array_dict = dict()\n",
    "        for tipo_agent in self.dict_agent.keys():\n",
    "            array_dict[tipo_agent] = []\n",
    "        for agents, x, y in self.grid.coord_iter():\n",
    "            for agent in agents:\n",
    "                for tipo_agent in self.dict_agent.keys():\n",
    "                    array_dict[tipo_agent].append(agent.threshold)\n",
    "        return array_dict\n",
    "\n",
    "    def return_agent_value(self):\n",
    "        array_dict = dict()\n",
    "        for tipo_agent in self.dict_agent.keys():\n",
    "            array_dict[tipo_agent] = []\n",
    "        for agents, x, y in self.grid.coord_iter():\n",
    "            for agent in agents:\n",
    "                for tipo_agent in self.dict_agent.keys():\n",
    "                    array_dict[tipo_agent].append(agent.value_function())\n",
    "        return array_dict"
   ]
  },
  {
   "cell_type": "code",
   "execution_count": 194,
   "metadata": {},
   "outputs": [],
   "source": [
    "# PARAMETROS GLOBAIS\n",
    "P_DEGRADACAO = 0.01\n",
    "TX_DEGRADACAO = 0.3\n",
    "TX_MELHORA_MU = 0.03\n",
    "TX_MELHORA_SD = 0.1\n",
    "TX_INVEST = 5\n",
    "BURNIN_INFRA = 1000\n",
    "MIN_INFRASTRUCTURE = 0.01\n",
    "N_BOTTOM = int(20 * 20 * P_DEGRADACAO/2)\n",
    "N_TOP = int(20 * 20 * P_DEGRADACAO/2) \n",
    "# DE AGENTE CASA\n",
    "PESO_INFRA = 2"
   ]
  },
  {
   "cell_type": "code",
   "execution_count": 195,
   "metadata": {},
   "outputs": [],
   "source": [
    "dict_agente = dict()\n",
    "dict_agente[PopRua] = dict()\n",
    "dict_agente[PopRua]['prop'] = 0.1\n",
    "dict_agente[PopRua]['param'] = (9, 8, 0)\n",
    "\n",
    "dict_agente[PopCasa] = dict()\n",
    "dict_agente[PopCasa]['prop'] = 0.8\n",
    "dict_agente[PopCasa]['param'] = (7, 42)\n",
    "\n",
    "dict_agente[PopSeg] = dict()\n",
    "dict_agente[PopSeg]['prop'] = 0.1\n",
    "dict_agente[PopSeg]['param'] = (1, 8, 15)"
   ]
  },
  {
   "cell_type": "code",
   "execution_count": 196,
   "metadata": {},
   "outputs": [],
   "source": [
    "ab = ModeloUrbano(10, 20, 20, dict_agente)"
   ]
  },
  {
   "cell_type": "code",
   "execution_count": 197,
   "metadata": {},
   "outputs": [],
   "source": [
    "for i in range(100):\n",
    "    ab.step()"
   ]
  },
  {
   "cell_type": "code",
   "execution_count": 198,
   "metadata": {},
   "outputs": [
    {
     "data": {
      "image/png": "[encoded data removed]",
      "text/plain": [
       "<Figure size 1080x1080 with 9 Axes>"
      ]
     },
     "metadata": {
      "needs_background": "light"
     },
     "output_type": "display_data"
    }
   ],
   "source": [
    "resultado = ab.return_agent_matrix()\n",
    "value = ab.return_agent_value()\n",
    "thresh = ab.return_agent_thresh()\n",
    "infra_matrix = ab.location.get_infra_matrix()\n",
    "fig, ax = plt.subplots(3,3, figsize = (15, 15))\n",
    "ax[0,0].imshow(resultado[PopCasa])\n",
    "ax[0,1].imshow(resultado[PopRua])\n",
    "ax[0,2].imshow(resultado[PopSeg])\n",
    "ax[1,0].hist(value[PopCasa])\n",
    "ax[1,1].hist(value[PopRua])\n",
    "ax[1,2].hist(value[PopSeg])\n",
    "ax[2,0].hist(thresh[PopCasa])\n",
    "ax[2,1].hist(thresh[PopRua])\n",
    "ax[2,2].hist(thresh[PopSeg]);"
   ]
  },
  {
   "cell_type": "code",
   "execution_count": 156,
   "metadata": {},
   "outputs": [
    {
     "data": {
      "text/plain": [
       "<matplotlib.image.AxesImage at 0x7fa6219b6850>"
      ]
     },
     "execution_count": 156,
     "metadata": {},
     "output_type": "execute_result"
    },
    {
     "data": {
      "image/png": "[encoded data removed]",
      "text/plain": [
       "<Figure size 432x288 with 1 Axes>"
      ]
     },
     "metadata": {
      "needs_background": "light"
     },
     "output_type": "display_data"
    }
   ],
   "source": [
    "plt.imshow(infra_matrix)"
   ]
  },
  {
   "cell_type": "code",
   "execution_count": 161,
   "metadata": {},
   "outputs": [
    {
     "data": {
      "text/plain": [
       "(array([85., 59., 63., 60., 49., 29., 23., 15., 11.,  6.]),\n",
       " array([0.20861548, 0.28775393, 0.36689238, 0.44603083, 0.52516929,\n",
       "        0.60430774, 0.68344619, 0.76258464, 0.8417231 , 0.92086155,\n",
       "        1.        ]),\n",
       " <BarContainer object of 10 artists>)"
      ]
     },
     "execution_count": 161,
     "metadata": {},
     "output_type": "execute_result"
    },
    {
     "data": {
      "image/png": "[encoded data removed]",
      "text/plain": [
       "<Figure size 1080x1080 with 9 Axes>"
      ]
     },
     "metadata": {
      "needs_background": "light"
     },
     "output_type": "display_data"
    }
   ],
   "source": [
    "resultado = ab.return_agent_matrix()\n",
    "thresh = ab.return_agent_thresh()\n",
    "infra_matrix = ab.location.get_infra_matrix()\n",
    "fig, ax = plt.subplots(3,3, figsize = (15, 15))\n",
    "\n",
    "Q75 = np.quantile(resultado[PopRua].ravel(), 0.8)\n",
    "def bla(num_hab):\n",
    "    if num_hab >= Q75:\n",
    "        return 1\n",
    "    else:\n",
    "        return 0\n",
    "bla_vec = np.vectorize(bla)\n",
    "arr_poprua = bla_vec(resultado[PopRua])\n",
    "\n",
    "Q75 = np.quantile(resultado[PopCasa].ravel(), 0.8)\n",
    "def bla(num_hab):\n",
    "    if num_hab >= Q75:\n",
    "        return 1\n",
    "    else:\n",
    "        return 0\n",
    "bla_vec = np.vectorize(bla)\n",
    "arr_popcasa = bla_vec(resultado[PopCasa])\n",
    "\n",
    "Q75 = np.quantile(infra_matrix.ravel(), 0.8)\n",
    "def bla(num_hab):\n",
    "    if num_hab >= Q75:\n",
    "        return 1\n",
    "    else:\n",
    "        return 0\n",
    "bla_vec = np.vectorize(bla)\n",
    "arr_infra = bla_vec(infra_matrix)\n",
    "\n",
    "ax[1,0].imshow(resultado[PopCasa])\n",
    "ax[1,1].imshow(np.log(resultado[PopRua]+0.1))\n",
    "ax[1,2].imshow(np.log(infra_matrix), cmap = 'gray')\n",
    "ax[2,0].imshow(arr_popcasa)\n",
    "ax[2,1].imshow(arr_poprua)\n",
    "ax[2,2].imshow(arr_infra)\n",
    "ax[0,0].hist(resultado[PopCasa].ravel())\n",
    "ax[0,1].hist(resultado[PopRua].ravel())\n",
    "ax[0,2].hist(infra_matrix.ravel())"
   ]
  },
  {
   "cell_type": "code",
   "execution_count": 459,
   "metadata": {},
   "outputs": [
    {
     "data": {
      "text/plain": [
       "<matplotlib.image.AxesImage at 0x7fd55ac8c8b0>"
      ]
     },
     "execution_count": 459,
     "metadata": {},
     "output_type": "execute_result"
    },
    {
     "data": {
      "image/png": "[encoded data removed]",
      "text/plain": [
       "<Figure size 720x360 with 2 Axes>"
      ]
     },
     "metadata": {
      "needs_background": "light"
     },
     "output_type": "display_data"
    }
   ],
   "source": [
    "fig, ax = plt.subplots(1,2,figsize=(10,5))\n",
    "arr1 = resultado[PopRua]/np.max(resultado[PopRua]) - resultado[PopCasa]/np.max(resultado[PopCasa])\n",
    "Q75 = np.quantile(arr1.ravel(), 0.5)\n",
    "def bla(num_hab):\n",
    "    if num_hab >= Q75:\n",
    "        return 1\n",
    "    else:\n",
    "        return 0\n",
    "bla_vec = np.vectorize(bla)\n",
    "arr = bla_vec(arr1)\n",
    "ax[0].imshow(arr1)\n",
    "ax[1].imshow(arr)"
   ]
  },
  {
   "cell_type": "code",
   "execution_count": 448,
   "metadata": {},
   "outputs": [
    {
     "data": {
      "image/png": "[encoded data removed]",
      "text/plain": [
       "<Figure size 1080x1080 with 9 Axes>"
      ]
     },
     "metadata": {
      "needs_background": "light"
     },
     "output_type": "display_data"
    }
   ],
   "source": [
    "resultado = ab.return_agent_matrix()\n",
    "thresh = ab.return_agent_thresh()\n",
    "infra_matrix = ab.location.get_infra_matrix()\n",
    "fig, ax = plt.subplots(3,3, figsize = (15, 15))\n",
    "ax[0,0].imshow(resultado[PopCasa])\n",
    "ax[0,1].imshow(resultado[PopRua])\n",
    "ax[0,2].imshow(np.log(infra_matrix), cmap = 'gray')\n",
    "ax[1,0].hist(resultado[PopCasa].ravel()/np.sum(resultado[PopCasa].ravel()))\n",
    "ax[1,1].hist(resultado[PopRua].ravel()/np.sum(resultado[PopRua].ravel()))\n",
    "ax[1,2].hist(infra_matrix.ravel())\n",
    "ax[2,0].hist(thresh[PopCasa]/np.sum(resultado[PopCasa].ravel()))\n",
    "ax[2,1].hist(thresh[PopRua]/np.sum(resultado[PopRua].ravel()))\n",
    "ax[2,2].hist(infra_matrix.ravel());"
   ]
  },
  {
   "cell_type": "code",
   "execution_count": null,
   "metadata": {},
   "outputs": [],
   "source": []
  }
 ],
 "metadata": {
  "interpreter": {
   "hash": "014f4a4a5af8f0104b12c029e500f4146d6d785e8cf714d2a35b7a9514230cd3"
  },
  "kernelspec": {
   "display_name": "Python 3.9.11 ('base')",
   "language": "python",
   "name": "python3"
  },
  "language_info": {
   "codemirror_mode": {
    "name": "ipython",
    "version": 3
   },
   "file_extension": ".py",
   "mimetype": "text/x-python",
   "name": "python",
   "nbconvert_exporter": "python",
   "pygments_lexer": "ipython3",
   "version": "3.9.11"
  },
  "orig_nbformat": 4
 },
 "nbformat": 4,
 "nbformat_minor": 2
}
