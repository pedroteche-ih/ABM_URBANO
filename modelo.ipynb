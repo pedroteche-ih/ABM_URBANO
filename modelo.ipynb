{
 "cells": [
  {
   "cell_type": "markdown",
   "metadata": {},
   "source": [
    "# ABM para Investigação de Dinâmicas Populacionais Urbanas\n",
    "\n",
    "O objetivo de um ABM é buscar uma transição de fase definida por um comportamento emergente no espaço dos parâmetros do modelo.\n",
    "\n",
    "O modelo original tinha 2 tipos de agente\n",
    "- **Povo de Rua** (a) com um parâmetro de threshold que define uma regra de mudança;\n",
    "- **Domicilios** (b) com um parâmetro de threshold que define uma regra de mudança;\n",
    "\n",
    "Esses agentes ocupavam uma grade retangular MxN que continha apenas um atributo: a contagem de agentes do tipo (b) em cada célula. Para os agentes (a) a regra threshold forçava uma mudança (aleatória na grade) quando o número de agentes em sua célula do tipo (b) caia abaixo de um certo valor. Já os agentes do tipo (b) tinham uma regra de threshold que forçava uma mudança (aleatória na grade) quando o número de agente em sua célula crescia demais.\n",
    "\n",
    "Os threshold eram definidos através de variáveis aleatórias, amostrada na criação de cada instância de um agente. O parâmetro deste modelo era justamente a relação entre Densidade de Agentes (tamanho da grade por número de instâncias de agentes), e os parâmetros das distribuições de threshold.\n",
    "\n",
    "Falta um atributo de VALOR que seja composto por diversos outros atributos da grade;\n",
    "Falta um agente de Segurança;\n",
    "Falta atributos de Infraestrutura;\n",
    "\n",
    "## FUNÇÃO VALOR\n",
    "Consegue transformar uma célula da grade em valor para cada um dos agentes.\n",
    "\n",
    "## AGENTE SEGURANÇA (c)\n",
    "Tem um threshold sobre o valor(a * SA, b * SB) - se a soma deles cai para baixo de um threshold, ela se muda.\n",
    "### Alteração do valor(a)\n",
    "Deve dificultar a presença do agente tipo (a) - reduzindo o valor(a) de uma célular.\n",
    "\n",
    "## FUNÇÃO INFRAESTUTURA\n",
    "Uma função que atribui a cada célula um valor de infraestrutura.\n",
    "### Alocação de Infraestrutura\n",
    "Inicialmente faremos uma alocação usando ruído de Perlin. A cada etapa, o valor de N regiões (N sendo um parametro do modelo, chamado Orçamento) é incrementado. A função de ranqueamento tem que penalizar (temos?) celulas de alta infrasestrutura existente e beneficiar celulas de alta população.\n",
    "#### SP Capital\n",
    "A alocação de recursos é limitada pelos limites geopolíticos da cidade.\n",
    "### Deterioração da Infraestrutura\n",
    "A cada etapa da simulação, cada célula tem uma chance de perder N pontos de infraestrutura.\n",
    "\n",
    "## AGENTE IGREJA (d)\n",
    "Tem um threshold sobre o valor(a * IA, b * IB) - se a soma deles cai para baixo de um threshold, ela se muda.\n",
    "### Alteração do valor(a)\n",
    "A Igreja busca construir um equilibrio da população do agente (a) - ela altera o valor da celula para agentes (a) nos dois sentidos: se o valor está abaixo de um threshold, ela o aumenta, se ele esta acima, ela o reduz.\n",
    "\n",
    "# Framework de Desenvolvimento\n",
    "\n",
    "- Começar implantando infraestrutura.\n",
    "- Adicionar agentes (c) e (d)\n",
    " "
   ]
  },
  {
   "cell_type": "markdown",
   "metadata": {},
   "source": []
  },
  {
   "cell_type": "code",
   "execution_count": 16,
   "metadata": {},
   "outputs": [],
   "source": [
    "import random\n",
    "\n",
    "class Grid:\n",
    "    '''\n",
    "    '''\n",
    "    def __init__(self, x, y):\n",
    "        '''\n",
    "\n",
    "            loc_dict Dict: dicionário para conter atributos do modelo e agentes.\n",
    "            loc_pairs List: lista com pares de coordenadas (usada para amostragem aleatória)\n",
    "        '''\n",
    "        self.x_size = x\n",
    "        self.y_size = y\n",
    "        self.loc_pairs = [(i, j) for i in range(x) for j in range(y)]\n",
    "        self.agent_set = set()\n",
    "        self.loc_dict = dict()\n",
    "        for i in range(x):\n",
    "            for j in range(y):\n",
    "                self.loc_dict[(i,j)] = dict()\n",
    "                self.loc_dict[(i,j)]['infrastructure'] = 0\n",
    "                self.loc_dict[(i,j)]['agent_present'] = set()\n",
    "\n",
    "    def return_coord_pair(self):\n",
    "        '''\n",
    "        Retorna um par de coordenadas aleatoriamente.\n",
    "        '''\n",
    "        return random.choice(self.loc_pairs)\n",
    "\n",
    "    def add_agent_position(self, pos_tuple, agent):\n",
    "        '''\n",
    "        Adiciona um agente na posição x, y = pos_tuple.\n",
    "        '''\n",
    "        self.loc_dict[(pos_tuple[0], pos_tuple[1])]['agent_present'].add(agent)\n",
    "\n",
    "    def change_agent_position(self, agent, new_pos):\n",
    "        '''\n",
    "        '''\n",
    "        self.loc_dict[(agent.x_pos, agent.y_pos)]['agent_present'].remove(agent)\n",
    "        self.loc_dict[(new_pos[0], new_pos[1])]['agent_present'].add(agent)\n",
    "\n",
    "class Agent:\n",
    "    '''\n",
    "    Classe representando um Agente genérico\n",
    "\n",
    "    '''\n",
    "    def __init__(self, grid):\n",
    "        '''\n",
    "        Parameters:\n",
    "            grid Grid: objeto Grid onde o agente residirá\n",
    "        Attributes:\n",
    "            pos Tuple: tuple com posição x, y do agente no Grid\n",
    "        '''\n",
    "        self.x_pos, self.y_pos = grid.return_coord_pair()\n",
    "        self.grid = grid\n",
    "        self.grid.add_agent_position((self.x_pos, self.y_pos), self)\n",
    "\n",
    "    def move(self):\n",
    "        new_pos = self.grid.return_coord_pair()\n",
    "        self.grid.change_agent_position(self, new_pos)\n",
    "        self.x_pos, self.y_pos = new_pos\n",
    "\n",
    "class AgentA(Agent):\n",
    "    '''\n",
    "    Classe representando o Povo de Rua\n",
    "    '''\n",
    "    def __init__(self, grid, thresh_dict):\n",
    "        super().__init__(grid)\n",
    "        self.thresh_dict = thresh_dict\n",
    "\n",
    "    def regra_movimento(self):\n",
    "        '''\n",
    "        Avalia atributos da Grid para determinar se agente se muda ou não\n",
    "        '''\n",
    "        condicao = True\n",
    "        for threshold in self.thresh_dict.keys():\n",
    "            if self.thresh_dict[threshold] < self.grid.loc_dict[(self.x_pos, self.y_pos)][threshold]:\n",
    "                condicao = True\n",
    "                break\n",
    "        if condicao:\n",
    "            self.move()"
   ]
  },
  {
   "cell_type": "code",
   "execution_count": 24,
   "metadata": {},
   "outputs": [],
   "source": [
    "grade_teste = Grid(2, 2)\n",
    "for i in range(100):\n",
    "    Agent(grade_teste)"
   ]
  },
  {
   "cell_type": "code",
   "execution_count": 31,
   "metadata": {},
   "outputs": [
    {
     "data": {
      "text/plain": [
       "30"
      ]
     },
     "execution_count": 31,
     "metadata": {},
     "output_type": "execute_result"
    }
   ],
   "source": [
    "len(grade_teste.loc_dict[1,1]['agent_present'])"
   ]
  },
  {
   "cell_type": "code",
   "execution_count": 11,
   "metadata": {},
   "outputs": [],
   "source": [
    "x = 2\n",
    "y = 2\n",
    "loc_dict = dict()"
   ]
  },
  {
   "cell_type": "code",
   "execution_count": 12,
   "metadata": {},
   "outputs": [],
   "source": [
    "for i in range(x):\n",
    "    for j in range(y):\n",
    "        loc_dict[(i,j)] = dict()\n",
    "        loc_dict[(i,j)]['infra'] = 0\n",
    "        loc_dict[(i,j)]['agent_set'] = set()"
   ]
  },
  {
   "cell_type": "code",
   "execution_count": 15,
   "metadata": {},
   "outputs": [
    {
     "data": {
      "text/plain": [
       "{(0, 0): {'infra': 0, 'agent_set': set()},\n",
       " (0, 1): {'infra': 0, 'agent_set': set()},\n",
       " (1, 0): {'infra': 0, 'agent_set': set()},\n",
       " (1, 1): {'infra': 0, 'agent_set': set()}}"
      ]
     },
     "execution_count": 15,
     "metadata": {},
     "output_type": "execute_result"
    }
   ],
   "source": [
    "loc_dict"
   ]
  },
  {
   "cell_type": "markdown",
   "metadata": {},
   "source": [
    "## Usando MESA"
   ]
  },
  {
   "cell_type": "code",
   "execution_count": 30,
   "metadata": {},
   "outputs": [
    {
     "name": "stdout",
     "output_type": "stream",
     "text": [
      "Collecting perlin-noise\n",
      "  Downloading perlin_noise-1.12-py3-none-any.whl (5.3 kB)\n",
      "Installing collected packages: perlin-noise\n",
      "Successfully installed perlin-noise-1.12\n"
     ]
    }
   ],
   "source": [
    "!pip install perlin-noise"
   ]
  },
  {
   "cell_type": "code",
   "execution_count": 32,
   "metadata": {},
   "outputs": [],
   "source": [
    "import mesa, random\n",
    "import numpy as np\n",
    "from scipy.stats import pareto, norm\n",
    "from perlin_noise import PerlinNoise"
   ]
  },
  {
   "cell_type": "code",
   "execution_count": 138,
   "metadata": {},
   "outputs": [],
   "source": [
    "def perlin_grid(height, width):\n",
    "    noise1 = PerlinNoise(octaves=3)\n",
    "    noise2 = PerlinNoise(octaves=6)\n",
    "    noise3 = PerlinNoise(octaves=12)\n",
    "    noise4 = PerlinNoise(octaves=24)\n",
    "\n",
    "    xpix, ypix = height, width\n",
    "    pic = []\n",
    "    for i in range(xpix):\n",
    "        row = []\n",
    "        for j in range(ypix):\n",
    "            noise_val = noise1([i/xpix, j/ypix])\n",
    "            noise_val += 0.5 * noise2([i/xpix, j/ypix])\n",
    "            noise_val += 0.25 * noise3([i/xpix, j/ypix])\n",
    "            noise_val += 0.125 * noise4([i/xpix, j/ypix])\n",
    "\n",
    "            row.append(noise_val)\n",
    "        pic.append(row)\n",
    "    pic_array = np.array(pic)\n",
    "    pic_array = pic_array - np.min(pic_array)\n",
    "    pic_array = pic_array/np.max(pic_array)\n",
    "    return pic_array"
   ]
  },
  {
   "cell_type": "code",
   "execution_count": 248,
   "metadata": {},
   "outputs": [],
   "source": [
    "class PopRua(mesa.Agent):\n",
    "    def __init__(self, unique_id, model, parametros_agente):\n",
    "        '''\n",
    "        parametros_agente: tuple com os parametros de cada tipo de agente diferente\n",
    "        '''\n",
    "        super().__init__(unique_id, model)\n",
    "        self.threshold = norm.rvs(parametros_agente[0], parametros_agente[1])\n",
    "\n",
    "    def value_function(self):\n",
    "        value = self.model.location.param_dict[self.pos[0]][self.pos[1]]['value']\n",
    "        infra = self.model.location.param_dict[self.pos[0]][self.pos[1]]['infrastructure']\n",
    "        return value + PESO_INFRA * infra\n",
    "\n",
    "    def move(self):\n",
    "        new_position_x = random.randint(0, self.model.grid.height - 1)\n",
    "        new_position_y = random.randint(0, self.model.grid.width - 1)\n",
    "        new_position = (new_position_x, new_position_y)\n",
    "        self.model.grid.move_agent(self, new_position)\n",
    "\n",
    "    def step(self):\n",
    "        if self.value_function() < self.threshold:\n",
    "            self.move()\n",
    "\n",
    "class PopCasa(mesa.Agent):\n",
    "    def __init__(self, unique_id, model, parametros_agente):\n",
    "        '''\n",
    "        parametros_agente: tuple com os parametros de cada tipo de agente diferente\n",
    "        '''\n",
    "        super().__init__(unique_id, model)\n",
    "        self.threshold = pareto.rvs(b=parametros_agente[0]) * parametros_agente[0]\n",
    "\n",
    "    def value_function(self):\n",
    "        value = self.model.location.param_dict[self.pos[0]][self.pos[1]]['value']\n",
    "        infra = self.model.location.param_dict[self.pos[0]][self.pos[1]]['infrastructure']\n",
    "        return value - PESO_INFRA * infra\n",
    "\n",
    "    def move(self):\n",
    "        new_position_x = random.randint(0, self.model.grid.height - 1)\n",
    "        new_position_y = random.randint(0, self.model.grid.width - 1)\n",
    "        new_position = (new_position_x, new_position_y)\n",
    "        self.model.grid.move_agent(self, new_position)\n",
    "\n",
    "    def step(self):\n",
    "        if self.value_function() > self.threshold:\n",
    "            self.move()\n",
    "\n",
    "class Locacao:\n",
    "    '''\n",
    "    '''\n",
    "    def __init__(self, height, width, model):\n",
    "        param_dict = dict()\n",
    "        self.model = model\n",
    "        \n",
    "        for i in range(height):\n",
    "            param_dict[i] = dict()\n",
    "            for j in range(width):\n",
    "                param_dict[i][j] = dict()\n",
    "        self.param_dict = param_dict\n",
    "        self.initialize_infrastructure(height, width)\n",
    "\n",
    "    def update_value(self):\n",
    "        '''\n",
    "        O valor de uma célula da grade é a média do número de pessoas na vizinhança de Moore da celula.\n",
    "        '''\n",
    "        for cell in self.model.grid.coord_iter():\n",
    "            viz = self.model.grid.get_neighborhood(\n",
    "                (cell[1], cell[2]), moore=True, include_center=True\n",
    "            )\n",
    "            pessoas = []\n",
    "            for cell_v in viz:\n",
    "                pessoas.extend(self.model.grid.get_cell_list_contents(cell_v))\n",
    "\n",
    "            casas = [pessoa for pessoa in pessoas if isinstance(pessoa, PopCasa)]\n",
    "            num_ocup = len(casas) / 9\n",
    "            self.param_dict[cell[1]][cell[2]]['value'] = num_ocup\n",
    "\n",
    "    def get_value(self, x, y):\n",
    "        return self.param_dict[x][y]['value']\n",
    "\n",
    "    def initialize_infrastructure(self, height, width):\n",
    "        perlin_noise = perlin_grid(height, width)\n",
    "        for i in range(height):\n",
    "            for j in range(width):\n",
    "                self.param_dict[i][j]['infrastructure'] = perlin_noise[i,j]\n",
    "\n",
    "    def update_infrastructure(self):\n",
    "        '''\n",
    "        Infraestrutura degrada ao longo do tempo.\n",
    "        '''\n",
    "        \n",
    "        top_value = np.max(self.get_value_matrix())\n",
    "        for cell in self.model.grid.coord_iter():\n",
    "            infra = self.param_dict[cell[1]][cell[2]]['infrastructure']\n",
    "            value = self.param_dict[cell[1]][cell[2]]['value']\n",
    "            if infra > MIN_INFRASTRUCTURE:\n",
    "                if random.random() < P_DEGRADACAO:\n",
    "                    self.param_dict[cell[1]][cell[2]]['infrastructure'] *= (1-TX_DEGRADACAO)\n",
    "                    infra = self.param_dict[cell[1]][cell[2]]['infrastructure']\n",
    "\n",
    "    def get_infra_matrix(self):\n",
    "        infra_list = []\n",
    "        for i in self.param_dict.keys():\n",
    "            row = []\n",
    "            for j in self.param_dict[i].keys():\n",
    "                row.append(self.param_dict[i][j]['infrastructure'])\n",
    "            infra_list.append(row)\n",
    "        return np.array(infra_list)\n",
    "\n",
    "    def get_value_matrix(self):\n",
    "        value_list = []\n",
    "        for i in self.param_dict.keys():\n",
    "            row = []\n",
    "            for j in self.param_dict[i].keys():\n",
    "                row.append(self.param_dict[i][j]['value'])\n",
    "            value_list.append(row)\n",
    "        return np.array(value_list)\n",
    "\n",
    "    def update(self):\n",
    "        self.update_value()\n",
    "        self.update_infrastructure()\n",
    "\n",
    "class ModeloUrbano(mesa.Model):\n",
    "    def __init__(self, dens, height, width, dict_agent):\n",
    "        self.grid = mesa.space.MultiGrid(height, width, True)\n",
    "        self.schedule = mesa.time.RandomActivation(self)\n",
    "        self.num_agents = int(dens * height * width)\n",
    "        self.dict_agent = dict_agent\n",
    "        # Create agents\n",
    "        id_u = 0\n",
    "        for tipo_agente in dict_agent.keys():\n",
    "            num_agentes_tipo = self.num_agents * dict_agent[tipo_agente]['prop']\n",
    "            for i in range(int(num_agentes_tipo)):\n",
    "                a = tipo_agente(id_u, self, dict_agent[tipo_agente]['param'])\n",
    "                x = self.random.randrange(self.grid.height)\n",
    "                y = self.random.randrange(self.grid.width)\n",
    "                self.grid.place_agent(a, (x, y))\n",
    "                self.schedule.add(a)\n",
    "                id_u += 1\n",
    "\n",
    "        self.location = Locacao(height, width, self)\n",
    "\n",
    "    def step(self):\n",
    "        \"\"\"Advance the model by one step.\"\"\"\n",
    "        self.location.update()\n",
    "        self.schedule.step()\n",
    "\n",
    "    def return_agent_matrix(self):\n",
    "        array_dict = dict()\n",
    "        for tipo_agent in self.dict_agent.keys():\n",
    "            array_dict[tipo_agent] = np.zeros((self.grid.height, self.grid.width))\n",
    "        for agents, x, y in self.grid.coord_iter():\n",
    "            for agent in agents:\n",
    "                for tipo_agent in self.dict_agent.keys():\n",
    "                    if isinstance(agent, tipo_agent):\n",
    "                        array_dict[tipo_agent][x,y] += 1\n",
    "        return array_dict"
   ]
  },
  {
   "cell_type": "code",
   "execution_count": 249,
   "metadata": {},
   "outputs": [],
   "source": [
    "# PARAMETROS GLOBAIS\n",
    "P_DEGRADACAO = 0.01\n",
    "TX_DEGRADACAO = 0.25\n",
    "MIN_INFRASTRUCTURE = 0.01\n",
    "\n",
    "# DE AGENTE CASA\n",
    "PESO_INFRA = 2"
   ]
  },
  {
   "cell_type": "code",
   "execution_count": 250,
   "metadata": {},
   "outputs": [],
   "source": [
    "dict_agente = dict()\n",
    "dict_agente[PopRua] = dict()\n",
    "dict_agente[PopRua]['prop'] = 0.01\n",
    "dict_agente[PopRua]['param'] = (6, 4)\n",
    "\n",
    "dict_agente[PopCasa] = dict()\n",
    "dict_agente[PopCasa]['prop'] = 0.99\n",
    "dict_agente[PopCasa]['param'] = (3, 42)"
   ]
  },
  {
   "cell_type": "code",
   "execution_count": 251,
   "metadata": {},
   "outputs": [],
   "source": [
    "ab = ModeloUrbano(2, 20, 20, dict_agente)"
   ]
  },
  {
   "cell_type": "code",
   "execution_count": 252,
   "metadata": {},
   "outputs": [],
   "source": [
    "for i in range(500):\n",
    "    ab.step()"
   ]
  },
  {
   "cell_type": "code",
   "execution_count": 253,
   "metadata": {},
   "outputs": [
    {
     "data": {
      "text/plain": [
       "<matplotlib.image.AxesImage at 0x7f97d9f33ac0>"
      ]
     },
     "execution_count": 253,
     "metadata": {},
     "output_type": "execute_result"
    },
    {
     "data": {
      "image/png": "[encoded data removed]",
      "text/plain": [
       "<Figure size 1296x432 with 3 Axes>"
      ]
     },
     "metadata": {
      "needs_background": "light"
     },
     "output_type": "display_data"
    }
   ],
   "source": [
    "resultado = ab.return_agent_matrix()\n",
    "infra_matrix = ab.location.get_infra_matrix()\n",
    "fig, ax = plt.subplots(1,3, figsize = (18, 6))\n",
    "ax[0].imshow(resultado[PopCasa])\n",
    "ax[1].imshow(resultado[PopRua])\n",
    "ax[2].imshow(infra_matrix, cmap = 'gray')"
   ]
  },
  {
   "cell_type": "code",
   "execution_count": 254,
   "metadata": {},
   "outputs": [
    {
     "data": {
      "text/plain": [
       "array([[1., 1., 1., 1., 1., 1., 1., 1., 1., 1., 1., 1., 1., 1., 1., 1.,\n",
       "        1., 1., 1., 1.],\n",
       "       [1., 1., 1., 1., 1., 1., 1., 1., 1., 1., 1., 1., 1., 1., 1., 1.,\n",
       "        1., 1., 1., 1.],\n",
       "       [1., 1., 1., 1., 1., 1., 1., 1., 1., 1., 1., 1., 1., 1., 1., 1.,\n",
       "        1., 1., 1., 1.],\n",
       "       [1., 1., 1., 1., 1., 1., 1., 1., 1., 1., 1., 1., 1., 1., 1., 1.,\n",
       "        1., 1., 1., 1.],\n",
       "       [1., 1., 1., 1., 1., 1., 1., 1., 1., 1., 1., 1., 1., 1., 1., 1.,\n",
       "        1., 1., 1., 1.],\n",
       "       [1., 1., 1., 1., 1., 1., 1., 1., 0., 1., 1., 1., 1., 1., 1., 1.,\n",
       "        1., 1., 1., 1.],\n",
       "       [1., 1., 1., 1., 1., 1., 1., 1., 1., 1., 1., 1., 1., 1., 1., 1.,\n",
       "        1., 1., 1., 1.],\n",
       "       [1., 1., 1., 1., 1., 1., 1., 1., 1., 1., 1., 1., 1., 1., 1., 1.,\n",
       "        1., 1., 1., 1.],\n",
       "       [1., 1., 1., 1., 1., 1., 1., 1., 1., 1., 1., 1., 1., 1., 1., 1.,\n",
       "        1., 1., 1., 1.],\n",
       "       [1., 1., 1., 1., 1., 1., 1., 1., 1., 1., 1., 1., 1., 1., 1., 1.,\n",
       "        1., 1., 1., 1.],\n",
       "       [1., 1., 1., 1., 1., 1., 1., 1., 1., 1., 1., 1., 1., 1., 1., 1.,\n",
       "        1., 1., 1., 1.],\n",
       "       [1., 1., 1., 1., 1., 1., 1., 1., 1., 1., 1., 1., 1., 1., 1., 1.,\n",
       "        1., 1., 1., 1.],\n",
       "       [1., 1., 1., 1., 1., 1., 1., 1., 1., 1., 1., 1., 1., 1., 1., 1.,\n",
       "        1., 1., 1., 1.],\n",
       "       [1., 1., 1., 1., 1., 1., 1., 1., 1., 1., 1., 1., 1., 1., 1., 1.,\n",
       "        1., 1., 1., 1.],\n",
       "       [1., 1., 1., 1., 1., 1., 1., 1., 1., 1., 1., 1., 1., 1., 1., 1.,\n",
       "        1., 1., 1., 1.],\n",
       "       [1., 1., 1., 1., 1., 1., 1., 1., 1., 1., 1., 1., 1., 1., 1., 1.,\n",
       "        1., 1., 1., 1.],\n",
       "       [1., 1., 1., 1., 1., 1., 1., 1., 1., 1., 1., 1., 1., 1., 1., 1.,\n",
       "        1., 1., 1., 1.],\n",
       "       [1., 1., 1., 1., 1., 1., 1., 1., 1., 1., 1., 1., 1., 1., 1., 1.,\n",
       "        1., 1., 1., 1.],\n",
       "       [1., 1., 1., 1., 1., 1., 1., 1., 1., 1., 1., 1., 1., 1., 1., 1.,\n",
       "        1., 1., 1., 1.],\n",
       "       [1., 1., 1., 1., 1., 1., 1., 1., 1., 1., 1., 1., 1., 1., 1., 1.,\n",
       "        1., 1., 1., 1.]])"
      ]
     },
     "execution_count": 254,
     "metadata": {},
     "output_type": "execute_result"
    }
   ],
   "source": [
    "infra_matrix"
   ]
  },
  {
   "cell_type": "code",
   "execution_count": null,
   "metadata": {},
   "outputs": [],
   "source": []
  }
 ],
 "metadata": {
  "interpreter": {
   "hash": "014f4a4a5af8f0104b12c029e500f4146d6d785e8cf714d2a35b7a9514230cd3"
  },
  "kernelspec": {
   "display_name": "Python 3.9.11 ('base')",
   "language": "python",
   "name": "python3"
  },
  "language_info": {
   "codemirror_mode": {
    "name": "ipython",
    "version": 3
   },
   "file_extension": ".py",
   "mimetype": "text/x-python",
   "name": "python",
   "nbconvert_exporter": "python",
   "pygments_lexer": "ipython3",
   "version": "3.9.11"
  },
  "orig_nbformat": 4
 },
 "nbformat": 4,
 "nbformat_minor": 2
}
