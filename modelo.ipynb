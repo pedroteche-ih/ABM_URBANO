{
 "cells": [
  {
   "cell_type": "markdown",
   "metadata": {},
   "source": [
    "# ABM para Investigação de Dinâmicas Populacionais Urbanas\n",
    "\n",
    "O objetivo de um ABM é buscar uma transição de fase definida por um comportamento emergente no espaço dos parâmetros do modelo.\n",
    "\n",
    "O modelo original tinha 2 tipos de agente\n",
    "- **Povo de Rua** (a) com um parâmetro de threshold que define uma regra de mudança;\n",
    "- **Domicilios** (b) com um parâmetro de threshold que define uma regra de mudança;\n",
    "\n",
    "Esses agentes ocupavam uma grade retangular MxN que continha apenas um atributo: a contagem de agentes do tipo (b) em cada célula. Para os agentes (a) a regra threshold forçava uma mudança (aleatória na grade) quando o número de agentes em sua célula do tipo (b) caia abaixo de um certo valor. Já os agentes do tipo (b) tinham uma regra de threshold que forçava uma mudança (aleatória na grade) quando o número de agente em sua célula crescia demais.\n",
    "\n",
    "Os threshold eram definidos através de variáveis aleatórias, amostrada na criação de cada instância de um agente. O parâmetro deste modelo era justamente a relação entre Densidade de Agentes (tamanho da grade por número de instâncias de agentes), e os parâmetros das distribuições de threshold.\n",
    "\n",
    "Falta um atributo de VALOR que seja composto por diversos outros atributos da grade;\n",
    "Falta um agente de Segurança;\n",
    "Falta atributos de Infraestrutura;\n",
    "\n",
    "## FUNÇÃO VALOR\n",
    "Consegue transformar uma célula da grade em valor para cada um dos agentes.\n",
    "\n",
    "## AGENTE SEGURANÇA (c)\n",
    "Tem um threshold sobre o valor(a * SA, b * SB) - se a soma deles cai para baixo de um threshold, ela se muda.\n",
    "### Alteração do valor(a)\n",
    "Deve dificultar a presença do agente tipo (a) - reduzindo o valor(a) de uma célular.\n",
    "\n",
    "## FUNÇÃO INFRAESTUTURA\n",
    "Uma função que atribui a cada célula um valor de infraestrutura.\n",
    "### Alocação de Infraestrutura\n",
    "Inicialmente faremos uma alocação usando ruído de Perlin. A cada etapa, o valor de N regiões (N sendo um parametro do modelo, chamado Orçamento) é incrementado. A função de ranqueamento tem que penalizar (temos?) celulas de alta infrasestrutura existente e beneficiar celulas de alta população.\n",
    "#### SP Capital\n",
    "A alocação de recursos é limitada pelos limites geopolíticos da cidade.\n",
    "### Deterioração da Infraestrutura\n",
    "A cada etapa da simulação, cada célula tem uma chance de perder N pontos de infraestrutura.\n",
    "\n",
    "## AGENTE IGREJA (d)\n",
    "Tem um threshold sobre o valor(a * IA, b * IB) - se a soma deles cai para baixo de um threshold, ela se muda.\n",
    "### Alteração do valor(a)\n",
    "A Igreja busca construir um equilibrio da população do agente (a) - ela altera o valor da celula para agentes (a) nos dois sentidos: se o valor está abaixo de um threshold, ela o aumenta, se ele esta acima, ela o reduz.\n",
    "\n",
    "# Framework de Desenvolvimento\n",
    "\n",
    "- Começar implantando infraestrutura.\n",
    "- Adicionar agentes (c) e (d)\n",
    " "
   ]
  },
  {
   "cell_type": "markdown",
   "metadata": {},
   "source": []
  }
 ],
 "metadata": {
  "language_info": {
   "name": "python"
  },
  "orig_nbformat": 4
 },
 "nbformat": 4,
 "nbformat_minor": 2
}
