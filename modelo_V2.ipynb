{
 "cells": [
  {
   "cell_type": "markdown",
   "metadata": {},
   "source": [
    "# ABM para Investigação de Dinâmicas Populacionais Urbanas\n",
    "\n",
    "O objetivo de um ABM é buscar uma transição de fase definida por um comportamento emergente no espaço dos parâmetros do modelo.\n",
    "\n",
    "O modelo original tinha 2 tipos de agente\n",
    "- **Povo de Rua** (a) com um parâmetro de threshold que define uma regra de mudança;\n",
    "- **Domicilios** (b) com um parâmetro de threshold que define uma regra de mudança;\n",
    "\n",
    "Esses agentes ocupavam uma grade retangular MxN que continha apenas um atributo: a contagem de agentes do tipo (b) em cada célula. Para os agentes (a) a regra threshold forçava uma mudança (aleatória na grade) quando o número de agentes em sua célula do tipo (b) caia abaixo de um certo valor. Já os agentes do tipo (b) tinham uma regra de threshold que forçava uma mudança (aleatória na grade) quando o número de agente em sua célula crescia demais.\n",
    "\n",
    "Os threshold eram definidos através de variáveis aleatórias, amostrada na criação de cada instância de um agente. O parâmetro deste modelo era justamente a relação entre Densidade de Agentes (tamanho da grade por número de instâncias de agentes), e os parâmetros das distribuições de threshold.\n",
    "\n",
    "Falta um atributo de VALOR que seja composto por diversos outros atributos da grade;\n",
    "Falta um agente de Segurança;\n",
    "Falta atributos de Infraestrutura;\n",
    "\n",
    "## FUNÇÃO VALOR\n",
    "Consegue transformar uma célula da grade em valor para cada um dos agentes.\n",
    "\n",
    "## AGENTE SEGURANÇA (c)\n",
    "Tem um threshold sobre o valor(a * SA, b * SB) - se a soma deles cai para baixo de um threshold, ela se muda.\n",
    "### Alteração do valor(a)\n",
    "Deve dificultar a presença do agente tipo (a) - reduzindo o valor(a) de uma célular.\n",
    "\n",
    "## FUNÇÃO INFRAESTUTURA\n",
    "Uma função que atribui a cada célula um valor de infraestrutura.\n",
    "### Alocação de Infraestrutura\n",
    "Inicialmente faremos uma alocação usando ruído de Perlin. A cada etapa, o valor de N regiões (N sendo um parametro do modelo, chamado Orçamento) é incrementado. A função de ranqueamento tem que penalizar (temos?) celulas de alta infrasestrutura existente e beneficiar celulas de alta população.\n",
    "#### SP Capital\n",
    "A alocação de recursos é limitada pelos limites geopolíticos da cidade.\n",
    "### Deterioração da Infraestrutura\n",
    "A cada etapa da simulação, cada célula tem uma chance de perder N pontos de infraestrutura.\n",
    "\n",
    "## AGENTE IGREJA (d)\n",
    "Tem um threshold sobre o valor(a * IA, b * IB) - se a soma deles cai para baixo de um threshold, ela se muda.\n",
    "### Alteração do valor(a)\n",
    "A Igreja busca construir um equilibrio da população do agente (a) - ela altera o valor da celula para agentes (a) nos dois sentidos: se o valor está abaixo de um threshold, ela o aumenta, se ele esta acima, ela o reduz.\n",
    "\n",
    "# Framework de Desenvolvimento\n",
    "\n",
    "- Começar implantando infraestrutura.\n",
    "- Adicionar agentes (c) e (d)\n",
    " "
   ]
  },
  {
   "cell_type": "markdown",
   "metadata": {},
   "source": [
    "## Usando MESA"
   ]
  },
  {
   "cell_type": "code",
   "execution_count": 2,
   "metadata": {},
   "outputs": [],
   "source": [
    "import mesa, random\n",
    "import numpy as np\n",
    "import matplotlib.pyplot as plt\n",
    "from scipy.stats import pareto, norm, lognorm\n",
    "from perlin_noise import PerlinNoise"
   ]
  },
  {
   "cell_type": "code",
   "execution_count": 5,
   "metadata": {},
   "outputs": [],
   "source": [
    "def perlin_grid(height, width):\n",
    "    noise1 = PerlinNoise(octaves=3)\n",
    "    noise2 = PerlinNoise(octaves=6)\n",
    "    noise3 = PerlinNoise(octaves=12)\n",
    "    noise4 = PerlinNoise(octaves=24)\n",
    "\n",
    "    xpix, ypix = height, width\n",
    "    pic = []\n",
    "    for i in range(xpix):\n",
    "        row = []\n",
    "        for j in range(ypix):\n",
    "            noise_val = noise1([i/xpix, j/ypix])\n",
    "            noise_val += 0.5 * noise2([i/xpix, j/ypix])\n",
    "            noise_val += 0.25 * noise3([i/xpix, j/ypix])\n",
    "            noise_val += 0.125 * noise4([i/xpix, j/ypix])\n",
    "\n",
    "            row.append(noise_val)\n",
    "        pic.append(row)\n",
    "    pic_array = np.array(pic)\n",
    "    pic_array = pic_array - np.min(pic_array)\n",
    "    pic_array = pic_array/np.max(pic_array)\n",
    "    return pic_array\n",
    "\n",
    "def gini_espacial(model, tipo_agente):\n",
    "    ocup = [\n",
    "        len([pessoa for pessoa in cell[0] if isinstance(pessoa, tipo_agente)])\n",
    "        for cell in model.grid.coord_iter()\n",
    "    ]\n",
    "    x = sorted(ocup)\n",
    "    N = model.grid.height * model.grid.width\n",
    "    B = sum(xi * (N - i) for i, xi in enumerate(x)) / (N * sum(x))\n",
    "    return 1 + (1 / N) - 2 * B"
   ]
  },
  {
   "cell_type": "code",
   "execution_count": 6,
   "metadata": {},
   "outputs": [],
   "source": [
    "class PopRua(mesa.Agent):\n",
    "    def __init__(self, unique_id, model, parametros_agente):\n",
    "        '''\n",
    "        parametros_agente: tuple com os parametros de cada tipo de agente diferente\n",
    "        '''\n",
    "        super().__init__(unique_id, model)\n",
    "        self.threshold = np.max([0,norm.rvs(parametros_agente[0], parametros_agente[1])])\n",
    "        self.peso_seg = parametros_agente[2]\n",
    "        self.viol = 0\n",
    "\n",
    "    def value_function(self):\n",
    "        value = self.model.location.param_dict[self.pos[0]][self.pos[1]]['value']\n",
    "        infra = self.model.location.param_dict[self.pos[0]][self.pos[1]]['infrastructure']\n",
    "        pop_seg = 0\n",
    "        for neighbor in self.model.grid.get_neighbors(self.pos, moore = True, include_center = True):\n",
    "            if isinstance(neighbor, PopSeg):\n",
    "                pop_seg += 1\n",
    "        return value + (PESO_INFRA * infra) - (self.peso_seg * pop_seg/9)\n",
    "\n",
    "    def move(self):\n",
    "        new_position_x = random.randint(0, self.model.grid.height - 1)\n",
    "        new_position_y = random.randint(0, self.model.grid.width - 1)\n",
    "        new_position = (new_position_x, new_position_y)\n",
    "        self.model.grid.move_agent(self, new_position)\n",
    "\n",
    "    def step(self):\n",
    "        if self.value_function() < self.threshold:\n",
    "            self.viol += 1\n",
    "        if self.viol >= TX_VIOL_RUA:\n",
    "            self.viol = 0\n",
    "            self.move()\n",
    "\n",
    "class PopCasa(mesa.Agent):\n",
    "    def __init__(self, unique_id, model, parametros_agente):\n",
    "        '''\n",
    "        parametros_agente: tuple com os parametros de cada tipo de agente diferente\n",
    "        '''\n",
    "        super().__init__(unique_id, model)\n",
    "        self.threshold = pareto.rvs(b=parametros_agente[0]) * parametros_agente[1]\n",
    "        self.peso_rua = parametros_agente[2]\n",
    "        self.viol = 0\n",
    "\n",
    "    def value_function(self):\n",
    "        value = self.model.location.param_dict[self.pos[0]][self.pos[1]]['value']\n",
    "        infra = self.model.location.param_dict[self.pos[0]][self.pos[1]]['infrastructure']\n",
    "        pop_rua = 0\n",
    "        for neighbor in self.model.grid.get_neighbors(self.pos, moore = True, include_center = True):\n",
    "            if isinstance(neighbor, PopRua):\n",
    "                pop_rua += 1\n",
    "        return value - (self.peso_rua * pop_rua/9)\n",
    "\n",
    "    def move(self):\n",
    "        new_position_x = random.randint(0, self.model.grid.height - 1)\n",
    "        new_position_y = random.randint(0, self.model.grid.width - 1)\n",
    "        new_position = (new_position_x, new_position_y)\n",
    "        self.model.grid.move_agent(self, new_position)\n",
    "\n",
    "    def step(self):\n",
    "        infra = self.model.location.param_dict[self.pos[0]][self.pos[1]]['infrastructure']\n",
    "        if self.value_function() > self.threshold + (PESO_INFRA * infra):\n",
    "            self.viol += 1\n",
    "        if self.viol >= TX_VIOL_CASA:\n",
    "            self.viol = 0\n",
    "            self.move()\n",
    "\n",
    "class PopSeg(mesa.Agent):\n",
    "    def __init__(self, unique_id, model, parametros_agente):\n",
    "        '''\n",
    "        parametros_agente: tuple com os parametros de cada tipo de agente diferente\n",
    "        '''\n",
    "        super().__init__(unique_id, model)\n",
    "        self.peso_dom = parametros_agente[0]\n",
    "        self.peso_rua = parametros_agente[1]\n",
    "        self.threshold = parametros_agente[2]\n",
    "\n",
    "    def move(self):\n",
    "        new_position_x = random.randint(0, self.model.grid.height - 1)\n",
    "        new_position_y = random.randint(0, self.model.grid.width - 1)\n",
    "        new_position = (new_position_x, new_position_y)\n",
    "        self.model.grid.move_agent(self, new_position)\n",
    "\n",
    "    def value_function(self):\n",
    "        pop_rua = 0\n",
    "        pop_dom = 0\n",
    "        for neighbor in self.model.grid.get_neighbors(self.pos, moore = True, include_center = True):\n",
    "            if isinstance(neighbor, PopCasa):\n",
    "                pop_dom += 1\n",
    "            elif isinstance(neighbor, PopRua):\n",
    "                pop_rua += 1\n",
    "        return self.peso_dom * pop_dom/9 + self.peso_rua * pop_rua/9\n",
    "\n",
    "    def step(self):\n",
    "        if self.value_function() < self.threshold:\n",
    "            self.move()\n",
    "\n",
    "class PopRel(mesa.Agent):\n",
    "    def __init__(self, unique_id, model, parametros_agente):\n",
    "        '''\n",
    "        parametros_agente: tuple com os parametros de cada tipo de agente diferente\n",
    "        '''\n",
    "        super().__init__(unique_id, model)\n",
    "        self.peso_rua = parametros_agente[0]\n",
    "        self.threshold = parametros_agente[1]\n",
    "\n",
    "    def move(self):\n",
    "        new_position_x = random.randint(0, self.model.grid.height - 1)\n",
    "        new_position_y = random.randint(0, self.model.grid.width - 1)\n",
    "        new_position = (new_position_x, new_position_y)\n",
    "        self.model.grid.move_agent(self, new_position)\n",
    "\n",
    "    def value_function(self):\n",
    "        pop_rua = 0\n",
    "        for neighbor in self.model.grid.get_neighbors(self.pos, moore = True, include_center = True):\n",
    "            if isinstance(neighbor, PopRua):\n",
    "                pop_rua += 1\n",
    "        return self.peso_rua * pop_rua/9\n",
    "\n",
    "    def step(self):\n",
    "        if self.value_function() < self.threshold:\n",
    "            self.move()\n",
    "\n",
    "class Locacao:\n",
    "    '''\n",
    "    '''\n",
    "    def __init__(self, height, width, model):\n",
    "        param_dict = dict()\n",
    "        self.model = model\n",
    "        \n",
    "        for i in range(height):\n",
    "            param_dict[i] = dict()\n",
    "            for j in range(width):\n",
    "                param_dict[i][j] = dict()\n",
    "        self.param_dict = param_dict\n",
    "        self.initialize_infrastructure(height, width)\n",
    "\n",
    "    def update_value(self):\n",
    "        '''\n",
    "        O valor de uma célula da grade é a média do número de pessoas na vizinhança de Moore da celula.\n",
    "        '''\n",
    "        for cell in self.model.grid.coord_iter():\n",
    "            viz = self.model.grid.get_neighborhood(\n",
    "                (cell[1], cell[2]), moore=True, include_center=True\n",
    "            )\n",
    "            pessoas = []\n",
    "            for cell_v in viz:\n",
    "                pessoas.extend(self.model.grid.get_cell_list_contents(cell_v))\n",
    "\n",
    "            casas = [pessoa for pessoa in pessoas if isinstance(pessoa, PopCasa)]\n",
    "            poprua = [pessoa for pessoa in pessoas if isinstance(pessoa, PopRua)]\n",
    "            num_ocup = len(casas) / 9 - len(poprua) / 9 \n",
    "            self.param_dict[cell[1]][cell[2]]['value'] = num_ocup\n",
    "\n",
    "    def get_value(self, x, y):\n",
    "        return self.param_dict[x][y]['value']\n",
    "\n",
    "    def initialize_infrastructure(self, height, width):\n",
    "        perlin_noise = perlin_grid(height, width)\n",
    "        for i in range(height):\n",
    "            for j in range(width):\n",
    "                self.param_dict[i][j]['infrastructure'] = perlin_noise[i,j]\n",
    "\n",
    "    def update_infrastructure(self):\n",
    "        '''\n",
    "        Infraestrutura degrada ao longo do tempo.\n",
    "        '''\n",
    "        \n",
    "        top_value = np.max(self.get_value_matrix())\n",
    "        data_list = []\n",
    "        for cell in self.model.grid.coord_iter():\n",
    "            infra = self.param_dict[cell[1]][cell[2]]['infrastructure']\n",
    "            value = self.param_dict[cell[1]][cell[2]]['value']\n",
    "            data_list.append((infra, value, cell[1], cell[2]))\n",
    "            if infra > MIN_INFRASTRUCTURE:\n",
    "                if random.random() < P_DEGRADACAO:\n",
    "                    self.param_dict[cell[1]][cell[2]]['infrastructure'] *= (1-TX_DEGRADACAO)\n",
    "                    infra = self.param_dict[cell[1]][cell[2]]['infrastructure']\n",
    "        bottom_infra = sorted(data_list, key = lambda x: x[0])[:N_BOTTOM]\n",
    "        top_value = sorted(data_list, key = lambda x: x[1], reverse = True)[:N_TOP]\n",
    "        improve_list = top_value + bottom_infra\n",
    "        for cell in improve_list:\n",
    "            melhora = lognorm.rvs(s = TX_MELHORA_SD, scale = TX_MELHORA_MU)\n",
    "            self.param_dict[cell[2]][cell[3]]['infrastructure'] = np.min([self.param_dict[cell[2]][cell[3]]['infrastructure'] + melhora, 1])\n",
    "\n",
    "\n",
    "    def get_infra_matrix(self):\n",
    "        infra_list = []\n",
    "        for i in self.param_dict.keys():\n",
    "            row = []\n",
    "            for j in self.param_dict[i].keys():\n",
    "                row.append(self.param_dict[i][j]['infrastructure'])\n",
    "            infra_list.append(row)\n",
    "        return np.array(infra_list)\n",
    "\n",
    "    def get_value_matrix(self):\n",
    "        value_list = []\n",
    "        for i in self.param_dict.keys():\n",
    "            row = []\n",
    "            for j in self.param_dict[i].keys():\n",
    "                row.append(self.param_dict[i][j]['value'])\n",
    "            value_list.append(row)\n",
    "        return np.array(value_list)\n",
    "\n",
    "    def update(self, it):\n",
    "        self.update_value()\n",
    "        if it % TX_INVEST == 0 and it > BURNIN_INFRA:\n",
    "            self.update_infrastructure()\n",
    "\n",
    "class ModeloUrbano(mesa.Model):\n",
    "    def __init__(self, dens, height, width, dict_agent):\n",
    "        self.grid = mesa.space.MultiGrid(height, width, True)\n",
    "        self.schedule = mesa.time.RandomActivation(self)\n",
    "        self.num_agents = int(dens * height * width)\n",
    "        self.dict_agent = dict_agent\n",
    "        self.iter = 0\n",
    "        # Create agents\n",
    "        id_u = 0\n",
    "        for tipo_agente in dict_agent.keys():\n",
    "            num_agentes_tipo = self.num_agents * dict_agent[tipo_agente]['prop']\n",
    "            for i in range(int(num_agentes_tipo)):\n",
    "                a = tipo_agente(id_u, self, dict_agent[tipo_agente]['param'])\n",
    "                x = self.random.randrange(self.grid.height)\n",
    "                y = self.random.randrange(self.grid.width)\n",
    "                self.grid.place_agent(a, (x, y))\n",
    "                self.schedule.add(a)\n",
    "                id_u += 1\n",
    "\n",
    "        self.location = Locacao(height, width, self)\n",
    "\n",
    "    def step(self):\n",
    "        \"\"\"Advance the model by one step.\"\"\"\n",
    "        self.iter += 1\n",
    "        self.location.update(self.iter)\n",
    "        self.schedule.step()\n",
    "\n",
    "    def return_agent_matrix(self):\n",
    "        array_dict = dict()\n",
    "        for tipo_agent in self.dict_agent.keys():\n",
    "            array_dict[tipo_agent] = np.zeros((self.grid.height, self.grid.width))\n",
    "        for agents, x, y in self.grid.coord_iter():\n",
    "            for agent in agents:\n",
    "                for tipo_agent in self.dict_agent.keys():\n",
    "                    if isinstance(agent, tipo_agent):\n",
    "                        array_dict[tipo_agent][x,y] += 1\n",
    "        return array_dict\n",
    "\n",
    "    def return_agent_thresh(self):\n",
    "        array_dict = dict()\n",
    "        for tipo_agent in self.dict_agent.keys():\n",
    "            array_dict[tipo_agent] = []\n",
    "        for agents, x, y in self.grid.coord_iter():\n",
    "            for agent in agents:\n",
    "                for tipo_agent in self.dict_agent.keys():\n",
    "                    if isinstance(agent, tipo_agent):\n",
    "                        array_dict[tipo_agent].append(agent.threshold)\n",
    "        return array_dict\n",
    "\n",
    "    def return_agent_value(self):\n",
    "        array_dict = dict()\n",
    "        for tipo_agent in self.dict_agent.keys():\n",
    "            array_dict[tipo_agent] = []\n",
    "        for agents, x, y in self.grid.coord_iter():\n",
    "            for agent in agents:\n",
    "                for tipo_agent in self.dict_agent.keys():\n",
    "                    if isinstance(agent, tipo_agent):\n",
    "                        array_dict[tipo_agent].append(agent.value_function())\n",
    "        return array_dict\n",
    "\n",
    "    def return_gini_localizacao(self):\n",
    "        dict_gini = dict()\n",
    "        for tipo_agent in self.dict_agent.keys():\n",
    "            dict_gini[tipo_agent] = gini_espacial(self, tipo_agent)\n",
    "        return dict_gini"
   ]
  },
  {
   "cell_type": "markdown",
   "metadata": {},
   "source": [
    "# PARAMETROS DO MODELO ABAIXO\n",
    "PARTE ONDE GUILHERME PODE MEXER!"
   ]
  },
  {
   "cell_type": "code",
   "execution_count": 7,
   "metadata": {},
   "outputs": [],
   "source": [
    "# PARAMETROS GLOBAIS\n",
    "P_DEGRADACAO = 0.01\n",
    "TX_DEGRADACAO = 0.3\n",
    "TX_MELHORA_MU = 0.03\n",
    "TX_MELHORA_SD = 0.1\n",
    "TX_INVEST = 5\n",
    "BURNIN_INFRA = 1000\n",
    "MIN_INFRASTRUCTURE = 0.01\n",
    "N_BOTTOM = int(20 * 20 * P_DEGRADACAO/2)\n",
    "N_TOP = int(20 * 20 * P_DEGRADACAO/2) \n",
    "PESO_INFRA = 2\n",
    "TX_VIOL_RUA = 0\n",
    "TX_VIOL_CASA = 0\n",
    "DENS_POP = 10"
   ]
  },
  {
   "cell_type": "code",
   "execution_count": 8,
   "metadata": {},
   "outputs": [],
   "source": [
    "# PARAMETROS DE AGENTES\n",
    "## Agente Rua\n",
    "## (MU_THRESH, SD_THRESH, PESO_SEGURANÇA)\n",
    "## MU_THRESH -> TEM QUE CONVERSAR COM DENSIDADE DE POP CASA (PROP POPCASA * 10 * 20 * 20) + PESO_INFRA\n",
    "## SD_THRESH -> TEM QUE CONVERSAR COM MU_THRESH (10-80% * MU_THRESH)\n",
    "## PESO_SEG TEM QUE CONVERSAR COM DENSIDADE POP SEG (0 - 3 OU 4)\n",
    "\n",
    "dict_agente = dict()\n",
    "dict_agente[PopRua] = dict()\n",
    "dict_agente[PopRua]['prop'] = 0.1\n",
    "dict_agente[PopRua]['param'] = (9, 2, 2)\n",
    "\n",
    "## Agente Casa\n",
    "## (Alpha de Paretto, Escala, Peso Rua)\n",
    "## Alpha de Paretto -> Quanto maior, mais desigualdade de renda, testear entre 0.5 e 7\n",
    "## Escala -> TEM QUE CONVERSAR COM DENSIDADE DE POP CASA (PROP POPCASA * 10 * 20 * 20) + PESO_INFRA\n",
    "## PESO_RUA -> TEM QUE CONVERSAR COM A DESNIDADE DE POP RUA (0 - 5)\n",
    "\n",
    "dict_agente[PopCasa] = dict()\n",
    "dict_agente[PopCasa]['prop'] = 0.8\n",
    "dict_agente[PopCasa]['param'] = (3, 5, 1) # 5 tem que conversar com o # de habitantes (20% do numero de habitantes)\n",
    "\n",
    "## Agente Segurança\n",
    "## (Alpha de Paretto, Escala, Peso Rua)\n",
    "## PESO CASA -> 1-8\n",
    "## PESO RUA -> 8-28\n",
    "## THRESHOLD -> 5-50\n",
    "\n",
    "dict_agente[PopSeg] = dict()\n",
    "dict_agente[PopSeg]['prop'] = 0.1\n",
    "dict_agente[PopSeg]['param'] = (1, 8, 20)"
   ]
  },
  {
   "cell_type": "code",
   "execution_count": 9,
   "metadata": {},
   "outputs": [],
   "source": [
    "# NÃO MUDAR ESSES PARAMETROS\n",
    "ab = ModeloUrbano(10, 20, 20, dict_agente)"
   ]
  },
  {
   "cell_type": "code",
   "execution_count": 12,
   "metadata": {},
   "outputs": [],
   "source": [
    "for i in range(5000):\n",
    "    ab.step()"
   ]
  },
  {
   "cell_type": "code",
   "execution_count": 13,
   "metadata": {},
   "outputs": [
    {
     "data": {
      "text/plain": [
       "{__main__.PopRua: 0.5052375,\n",
       " __main__.PopCasa: 0.20158749999999992,\n",
       " __main__.PopSeg: 0.5368499999999999}"
      ]
     },
     "execution_count": 13,
     "metadata": {},
     "output_type": "execute_result"
    }
   ],
   "source": [
    "ab.return_gini_localizacao()"
   ]
  },
  {
   "cell_type": "code",
   "execution_count": 20,
   "metadata": {},
   "outputs": [
    {
     "data": {
      "text/plain": [
       "0.9284519245869045"
      ]
     },
     "execution_count": 20,
     "metadata": {},
     "output_type": "execute_result"
    }
   ],
   "source": [
    "import random\n",
    "random.random()"
   ]
  },
  {
   "cell_type": "markdown",
   "metadata": {},
   "source": [
    "# parametros: densidade media, casa_shape, casa_scale, rua_mu, rua_sd\n",
    "**PSEUDO - CÓDIGO**\n",
    "```\n",
    "# np.linspace(MINIMO, MAXIMO, # DE ELEMENTOS)\n",
    "# ESPAÇO DOS PARÂMETROS\n",
    "dens_mu = np.linspace(40, 60, 3)\n",
    "casa_shape = np.linspace(1.1, 4, 3)\n",
    "casa_scale = np.linspace(10, 100, 3)\n",
    "rua_mu = np.linspace(40, 80, 3)\n",
    "rua_sd = np.linspace(1, 10, 3)\n",
    "\n",
    "for dens in dens_mu:\n",
    "    for csh in casa_shape:\n",
    "        for css in casa_scale:\n",
    "            for rmu in rua_mu:\n",
    "                for rsd in rua_sd:\n",
    "                    num_aleatorio = random.random()\n",
    "                    if num_aleatorio < 0.1:\n",
    "                        try:\n",
    "                            PROCESSAR\n",
    "                        except:\n",
    "                            pass\n",
    "                    else:\n",
    "                        pass\n",
    "```\n",
    "\n",
    "**CÓDIGO DE VDD**\n",
    "```\n",
    "dens_mu = np.linspace(40, 60, 3)\n",
    "casa_shape = np.linspace(1.1, 4, 3)\n",
    "casa_scale = np.linspace(10, 100, 3)\n",
    "rua_mu = np.linspace(40, 80, 3)\n",
    "rua_sd = np.linspace(1, 10, 3)\n",
    "it = 20\n",
    "first = True\n",
    "for dens in dens_mu:\n",
    "    for csh in casa_shape:\n",
    "        for css in casa_scale:\n",
    "            for rmu in rua_mu:\n",
    "                for rsd in rua_sd:\n",
    "                    num_aleatorio = random.random()\n",
    "                    if num_aleatorio < 0.1:\n",
    "                        teste = MoneyModel(int(10 * 10 * dens), 10, 10, csh, css, rmu, rsd)\n",
    "                        for i in range(it):\n",
    "                            teste.step()\n",
    "                        if first:\n",
    "                            dados_simulacao = (\n",
    "                                teste.datacollector.get_model_vars_dataframe().iloc[-1:]\n",
    "                            )\n",
    "                            dados_simulacao[\"dens_mu\"] = dens\n",
    "                            dados_simulacao[\"casa_shape\"] = csh\n",
    "                            dados_simulacao[\"casa_scale\"] = css\n",
    "                            dados_simulacao[\"rua_mu\"] = rmu\n",
    "                            dados_simulacao[\"rua_sd\"] = rsd\n",
    "                            first = False\n",
    "                        else:\n",
    "                            dados_simulacao_atual = (\n",
    "                                teste.datacollector.get_model_vars_dataframe().iloc[-1:]\n",
    "                            )\n",
    "                            dados_simulacao_atual[\"dens_mu\"] = dens\n",
    "                            dados_simulacao_atual[\"casa_shape\"] = csh\n",
    "                            dados_simulacao_atual[\"casa_scale\"] = css\n",
    "                            dados_simulacao_atual[\"rua_mu\"] = rmu\n",
    "                            dados_simulacao_atual[\"rua_sd\"] = rsd\n",
    "                            dados_simulacao = dados_simulacao.append(dados_simulacao_atual)\n",
    "                    else:\n",
    "                        pass\n",
    "```"
   ]
  },
  {
   "cell_type": "markdown",
   "metadata": {},
   "source": [
    "# Plots para o futuro"
   ]
  },
  {
   "cell_type": "code",
   "execution_count": 132,
   "metadata": {},
   "outputs": [
    {
     "data": {
      "image/png": "[encoded data removed]",
      "text/plain": [
       "<Figure size 1080x1080 with 9 Axes>"
      ]
     },
     "metadata": {
      "needs_background": "light"
     },
     "output_type": "display_data"
    }
   ],
   "source": [
    "resultado = ab.return_agent_matrix()\n",
    "value = ab.return_agent_value()\n",
    "thresh = ab.return_agent_thresh()\n",
    "infra_matrix = ab.location.get_infra_matrix()\n",
    "fig, ax = plt.subplots(3,3, figsize = (15, 15))\n",
    "ax[0,0].imshow(resultado[PopCasa])\n",
    "ax[0,1].imshow(resultado[PopRua])\n",
    "ax[0,2].imshow(resultado[PopSeg])\n",
    "ax[1,0].hist(value[PopCasa])\n",
    "ax[1,1].hist(value[PopRua])\n",
    "ax[1,2].hist(value[PopSeg])\n",
    "ax[2,0].hist(thresh[PopCasa])\n",
    "ax[2,1].hist(thresh[PopRua])\n",
    "ax[2,2].hist(thresh[PopSeg]);"
   ]
  },
  {
   "cell_type": "code",
   "execution_count": 101,
   "metadata": {},
   "outputs": [
    {
     "data": {
      "image/png": "[encoded data removed]",
      "text/plain": [
       "<Figure size 432x288 with 1 Axes>"
      ]
     },
     "metadata": {
      "needs_background": "light"
     },
     "output_type": "display_data"
    }
   ],
   "source": [
    "plt.imshow(infra_matrix);"
   ]
  },
  {
   "cell_type": "code",
   "execution_count": 104,
   "metadata": {},
   "outputs": [
    {
     "name": "stderr",
     "output_type": "stream",
     "text": [
      "/var/folders/c2/4vv1dtt97gl9bn1lvw8rf0k40000gn/T/ipykernel_90586/2163917143.py:44: RuntimeWarning: divide by zero encountered in log\n",
      "  ax[1,2].imshow(np.log(infra_matrix), cmap = 'gray')\n"
     ]
    },
    {
     "data": {
      "text/plain": [
       "(array([  5.,  13.,  28.,  63., 122., 101.,  38.,  15.,  10.,   5.]),\n",
       " array([0. , 0.1, 0.2, 0.3, 0.4, 0.5, 0.6, 0.7, 0.8, 0.9, 1. ]),\n",
       " <BarContainer object of 10 artists>)"
      ]
     },
     "execution_count": 104,
     "metadata": {},
     "output_type": "execute_result"
    },
    {
     "data": {
      "image/png": "[encoded data removed]",
      "text/plain": [
       "<Figure size 1080x1080 with 9 Axes>"
      ]
     },
     "metadata": {
      "needs_background": "light"
     },
     "output_type": "display_data"
    }
   ],
   "source": [
    "resultado = ab.return_agent_matrix()\n",
    "thresh = ab.return_agent_thresh()\n",
    "infra_matrix = ab.location.get_infra_matrix()\n",
    "fig, ax = plt.subplots(3,3, figsize = (15, 15))\n",
    "\n",
    "Q75 = np.quantile(resultado[PopRua].ravel(), 0.9)\n",
    "def bla(num_hab):\n",
    "    if num_hab >= Q75:\n",
    "        return 1\n",
    "    else:\n",
    "        return 0\n",
    "bla_vec = np.vectorize(bla)\n",
    "arr_poprua = bla_vec(resultado[PopRua])\n",
    "\n",
    "Q75 = np.quantile(resultado[PopCasa].ravel(), 0.8)\n",
    "def bla(num_hab):\n",
    "    if num_hab >= Q75:\n",
    "        return 1\n",
    "    else:\n",
    "        return 0\n",
    "bla_vec = np.vectorize(bla)\n",
    "arr_popcasa = bla_vec(resultado[PopCasa])\n",
    "\n",
    "Q75 = np.quantile(resultado[PopSeg].ravel(), 0.8)\n",
    "def bla(num_hab):\n",
    "    if num_hab >= Q75:\n",
    "        return 1\n",
    "    else:\n",
    "        return 0\n",
    "bla_vec = np.vectorize(bla)\n",
    "arr_popseg = bla_vec(resultado[PopSeg])\n",
    "\n",
    "Q75 = np.quantile(infra_matrix.ravel(), 0.8)\n",
    "def bla(num_hab):\n",
    "    if num_hab >= Q75:\n",
    "        return 1\n",
    "    else:\n",
    "        return 0\n",
    "bla_vec = np.vectorize(bla)\n",
    "arr_infra = bla_vec(infra_matrix)\n",
    "\n",
    "ax[1,0].imshow(resultado[PopCasa])\n",
    "ax[1,1].imshow(resultado[PopRua])\n",
    "ax[1,2].imshow(np.log(infra_matrix), cmap = 'gray')\n",
    "ax[2,0].imshow(arr_popcasa)\n",
    "ax[2,1].imshow(arr_poprua)\n",
    "ax[2,2].imshow(arr_popseg)\n",
    "ax[0,0].hist(resultado[PopCasa].ravel())\n",
    "ax[0,1].hist(resultado[PopRua].ravel())\n",
    "ax[0,2].hist(infra_matrix.ravel())"
   ]
  },
  {
   "cell_type": "code",
   "execution_count": 31,
   "metadata": {},
   "outputs": [
    {
     "data": {
      "text/plain": [
       "<matplotlib.image.AxesImage at 0x7fae4a4bb1f0>"
      ]
     },
     "execution_count": 31,
     "metadata": {},
     "output_type": "execute_result"
    },
    {
     "data": {
      "image/png": "[encoded data removed]",
      "text/plain": [
       "<Figure size 720x360 with 2 Axes>"
      ]
     },
     "metadata": {
      "needs_background": "light"
     },
     "output_type": "display_data"
    }
   ],
   "source": [
    "fig, ax = plt.subplots(1,2,figsize=(10,5))\n",
    "arr1 = resultado[PopRua]/np.max(resultado[PopRua]) - resultado[PopCasa]/np.max(resultado[PopCasa])\n",
    "Q75 = np.quantile(arr1.ravel(), 0.5)\n",
    "def bla(num_hab):\n",
    "    if num_hab >= Q75:\n",
    "        return 1\n",
    "    else:\n",
    "        return 0\n",
    "bla_vec = np.vectorize(bla)\n",
    "arr = bla_vec(arr1)\n",
    "ax[0].imshow(arr1)\n",
    "ax[1].imshow(arr)"
   ]
  },
  {
   "cell_type": "code",
   "execution_count": 448,
   "metadata": {},
   "outputs": [
    {
     "data": {
      "image/png": "[encoded data removed]",
      "text/plain": [
       "<Figure size 1080x1080 with 9 Axes>"
      ]
     },
     "metadata": {
      "needs_background": "light"
     },
     "output_type": "display_data"
    }
   ],
   "source": [
    "resultado = ab.return_agent_matrix()\n",
    "thresh = ab.return_agent_thresh()\n",
    "infra_matrix = ab.location.get_infra_matrix()\n",
    "fig, ax = plt.subplots(3,3, figsize = (15, 15))\n",
    "ax[0,0].imshow(resultado[PopCasa])\n",
    "ax[0,1].imshow(resultado[PopRua])\n",
    "ax[0,2].imshow(np.log(infra_matrix), cmap = 'gray')\n",
    "ax[1,0].hist(resultado[PopCasa].ravel()/np.sum(resultado[PopCasa].ravel()))\n",
    "ax[1,1].hist(resultado[PopRua].ravel()/np.sum(resultado[PopRua].ravel()))\n",
    "ax[1,2].hist(infra_matrix.ravel())\n",
    "ax[2,0].hist(thresh[PopCasa]/np.sum(resultado[PopCasa].ravel()))\n",
    "ax[2,1].hist(thresh[PopRua]/np.sum(resultado[PopRua].ravel()))\n",
    "ax[2,2].hist(infra_matrix.ravel());"
   ]
  },
  {
   "cell_type": "code",
   "execution_count": null,
   "metadata": {},
   "outputs": [],
   "source": []
  }
 ],
 "metadata": {
  "interpreter": {
   "hash": "014f4a4a5af8f0104b12c029e500f4146d6d785e8cf714d2a35b7a9514230cd3"
  },
  "kernelspec": {
   "display_name": "Python 3.9.11 ('base')",
   "language": "python",
   "name": "python3"
  },
  "language_info": {
   "codemirror_mode": {
    "name": "ipython",
    "version": 3
   },
   "file_extension": ".py",
   "mimetype": "text/x-python",
   "name": "python",
   "nbconvert_exporter": "python",
   "pygments_lexer": "ipython3",
   "version": "3.9.11"
  },
  "orig_nbformat": 4
 },
 "nbformat": 4,
 "nbformat_minor": 2
}
